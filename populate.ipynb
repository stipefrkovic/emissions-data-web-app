{
 "cells": [
  {
   "cell_type": "code",
   "execution_count": 12,
   "metadata": {},
   "outputs": [],
   "source": [
    "import os\n",
    "import pandas as pd\n",
    "import requests"
   ]
  },
  {
   "cell_type": "code",
   "execution_count": 13,
   "metadata": {},
   "outputs": [
    {
     "name": "stdout",
     "output_type": "stream",
     "text": [
      "https://nyc3.digitaloceanspaces.com/owid-public/data/co2/owid-co2-data.csv\n"
     ]
    }
   ],
   "source": [
    "emissions_csv_url = os.environ.get(\"EMISSIONS_CSV_URL\")\n",
    "print(emissions_csv_url)"
   ]
  },
  {
   "cell_type": "code",
   "execution_count": 14,
   "metadata": {},
   "outputs": [
    {
     "name": "stdout",
     "output_type": "stream",
     "text": [
      "           country  year iso_code  population           gdp  cement_co2  \\\n",
      "0      Afghanistan  1850      AFG   3752993.0           NaN         NaN   \n",
      "1      Afghanistan  1851      AFG   3767956.0           NaN         NaN   \n",
      "2      Afghanistan  1852      AFG   3783940.0           NaN         NaN   \n",
      "3      Afghanistan  1853      AFG   3800954.0           NaN         NaN   \n",
      "4      Afghanistan  1854      AFG   3818038.0           NaN         NaN   \n",
      "...            ...   ...      ...         ...           ...         ...   \n",
      "48053     Zimbabwe  2018      ZWE  15052191.0  2.271535e+10       0.558   \n",
      "48054     Zimbabwe  2019      ZWE  15354606.0           NaN       0.473   \n",
      "48055     Zimbabwe  2020      ZWE  15669663.0           NaN       0.496   \n",
      "48056     Zimbabwe  2021      ZWE  15993525.0           NaN       0.531   \n",
      "48057     Zimbabwe  2022      ZWE  16320539.0           NaN       0.531   \n",
      "\n",
      "       cement_co2_per_capita     co2  co2_growth_abs  co2_growth_prct  ...  \\\n",
      "0                        NaN     NaN             NaN              NaN  ...   \n",
      "1                        NaN     NaN             NaN              NaN  ...   \n",
      "2                        NaN     NaN             NaN              NaN  ...   \n",
      "3                        NaN     NaN             NaN              NaN  ...   \n",
      "4                        NaN     NaN             NaN              NaN  ...   \n",
      "...                      ...     ...             ...              ...  ...   \n",
      "48053                  0.037  10.715           1.419           15.265  ...   \n",
      "48054                  0.031   9.775          -0.939           -8.765  ...   \n",
      "48055                  0.032   7.850          -1.926          -19.700  ...   \n",
      "48056                  0.033   8.396           0.547            6.962  ...   \n",
      "48057                  0.033   8.856           0.460            5.477  ...   \n",
      "\n",
      "       share_global_other_co2  share_of_temperature_change_from_ghg  \\\n",
      "0                         NaN                                   NaN   \n",
      "1                         NaN                                 0.165   \n",
      "2                         NaN                                 0.164   \n",
      "3                         NaN                                 0.164   \n",
      "4                         NaN                                 0.163   \n",
      "...                       ...                                   ...   \n",
      "48053                     NaN                                 0.114   \n",
      "48054                     NaN                                 0.113   \n",
      "48055                     NaN                                 0.112   \n",
      "48056                     NaN                                 0.111   \n",
      "48057                     NaN                                   NaN   \n",
      "\n",
      "       temperature_change_from_ch4  temperature_change_from_co2  \\\n",
      "0                              NaN                          NaN   \n",
      "1                            0.000                        0.000   \n",
      "2                            0.000                        0.000   \n",
      "3                            0.000                        0.000   \n",
      "4                            0.000                        0.000   \n",
      "...                            ...                          ...   \n",
      "48053                        0.001                        0.001   \n",
      "48054                        0.001                        0.001   \n",
      "48055                        0.001                        0.001   \n",
      "48056                        0.001                        0.001   \n",
      "48057                          NaN                          NaN   \n",
      "\n",
      "       temperature_change_from_ghg  temperature_change_from_n2o  total_ghg  \\\n",
      "0                              NaN                          NaN        NaN   \n",
      "1                            0.000                          0.0        NaN   \n",
      "2                            0.000                          0.0        NaN   \n",
      "3                            0.000                          0.0        NaN   \n",
      "4                            0.000                          0.0        NaN   \n",
      "...                            ...                          ...        ...   \n",
      "48053                        0.002                          0.0     116.76   \n",
      "48054                        0.002                          0.0     116.03   \n",
      "48055                        0.002                          0.0     113.20   \n",
      "48056                        0.002                          0.0        NaN   \n",
      "48057                          NaN                          NaN        NaN   \n",
      "\n",
      "       total_ghg_excluding_lucf  trade_co2  trade_co2_share  \n",
      "0                           NaN        NaN              NaN  \n",
      "1                           NaN        NaN              NaN  \n",
      "2                           NaN        NaN              NaN  \n",
      "3                           NaN        NaN              NaN  \n",
      "4                           NaN        NaN              NaN  \n",
      "...                         ...        ...              ...  \n",
      "48053                     29.37     -0.088           -0.825  \n",
      "48054                     28.70      0.143            1.463  \n",
      "48055                     25.99      0.818           10.421  \n",
      "48056                       NaN      1.088           12.956  \n",
      "48057                       NaN        NaN              NaN  \n",
      "\n",
      "[48058 rows x 79 columns]\n"
     ]
    }
   ],
   "source": [
    "emissions_df = pd.read_csv(emissions_csv_url)\n",
    "print(emissions_df)"
   ]
  },
  {
   "cell_type": "code",
   "execution_count": 15,
   "metadata": {},
   "outputs": [
    {
     "name": "stdout",
     "output_type": "stream",
     "text": [
      "http://localhost:3000/records\n"
     ]
    }
   ],
   "source": [
    "backend_url = os.environ.get(\"BACKEND_URL\")\n",
    "print(backend_url)"
   ]
  },
  {
   "cell_type": "code",
   "execution_count": 16,
   "metadata": {},
   "outputs": [],
   "source": [
    "keep_columns = [\n",
    "    \"country\",\n",
    "    \"year\",\n",
    "    \"iso_code\",\n",
    "    \"population\",\n",
    "    \"gdp\",\n",
    "    \"co2\",\n",
    "    \"energy_per_capita\",\n",
    "    \"energy_per_gdp\",\n",
    "    \"methane\",\n",
    "    \"nitrous_oxide\",\n",
    "    \"share_of_temperature_change_from_ghg\",\n",
    "    \"temperature_change_from_ch4\",\n",
    "    \"temperature_change_from_co2\",\n",
    "    \"temperature_change_from_ghg\",\n",
    "    \"temperature_change_from_n2o\",\n",
    "    \"total_ghg\"\n",
    "]\n",
    "continents = [\n",
    "    \"Africa\",\n",
    "    \"Antarctica\",\n",
    "    \"Asia\",\n",
    "    \"Australia\",\n",
    "    \"Europe\",\n",
    "    \"North America\",\n",
    "    \"South America\"\n",
    "]\n",
    "time_range = range(1900, 2000)"
   ]
  },
  {
   "cell_type": "code",
   "execution_count": 17,
   "metadata": {},
   "outputs": [],
   "source": [
    "emissions_df = emissions_df[keep_columns]\n"
   ]
  },
  {
   "cell_type": "code",
   "execution_count": 18,
   "metadata": {},
   "outputs": [],
   "source": [
    "emissions_df = emissions_df[(emissions_df[\"iso_code\"].notna() | emissions_df[\"country\"].isin(continents)) & emissions_df[\"year\"].isin(time_range)]"
   ]
  },
  {
   "cell_type": "code",
   "execution_count": 19,
   "metadata": {},
   "outputs": [],
   "source": [
    "# emissions_df = emissions_df.where(pd.notnull(emissions_df), None)\n",
    "emissions_df = emissions_df.fillna('')"
   ]
  },
  {
   "cell_type": "code",
   "execution_count": 20,
   "metadata": {},
   "outputs": [
    {
     "name": "stdout",
     "output_type": "stream",
     "text": [
      "           country  year iso_code  population            gdp     co2  \\\n",
      "50     Afghanistan  1900      AFG   4707744.0                          \n",
      "51     Afghanistan  1901      AFG   4751177.0                          \n",
      "52     Afghanistan  1902      AFG   4802500.0                          \n",
      "53     Afghanistan  1903      AFG   4861833.0                          \n",
      "54     Afghanistan  1904      AFG   4921891.0                          \n",
      "...            ...   ...      ...         ...            ...     ...   \n",
      "48030     Zimbabwe  1995      ZWE  10994044.0  23569784832.0  15.028   \n",
      "48031     Zimbabwe  1996      ZWE  11178171.0  26145746944.0  14.909   \n",
      "48032     Zimbabwe  1997      ZWE  11362406.0  27012548608.0  13.912   \n",
      "48033     Zimbabwe  1998      ZWE  11548365.0  27984269312.0  14.131   \n",
      "48034     Zimbabwe  1999      ZWE  11716452.0  27841265664.0  15.728   \n",
      "\n",
      "      energy_per_capita energy_per_gdp methane nitrous_oxide  \\\n",
      "50                                                             \n",
      "51                                                             \n",
      "52                                                             \n",
      "53                                                             \n",
      "54                                                             \n",
      "...                 ...            ...     ...           ...   \n",
      "48030          4794.385          2.236    8.91          4.82   \n",
      "48031           4844.43          2.071   10.49          5.88   \n",
      "48032          4702.475          1.978   10.73          5.77   \n",
      "48033          4663.501          1.925   11.47          6.06   \n",
      "48034          5294.742          2.228   11.88          6.23   \n",
      "\n",
      "      share_of_temperature_change_from_ghg temperature_change_from_ch4  \\\n",
      "50                                   0.156                         0.0   \n",
      "51                                   0.155                         0.0   \n",
      "52                                   0.155                         0.0   \n",
      "53                                   0.154                         0.0   \n",
      "54                                   0.153                         0.0   \n",
      "...                                    ...                         ...   \n",
      "48030                                0.119                         0.0   \n",
      "48031                                0.119                         0.0   \n",
      "48032                                0.119                         0.0   \n",
      "48033                                 0.12                         0.0   \n",
      "48034                                0.121                         0.0   \n",
      "\n",
      "      temperature_change_from_co2 temperature_change_from_ghg  \\\n",
      "50                            0.0                         0.0   \n",
      "51                            0.0                         0.0   \n",
      "52                            0.0                         0.0   \n",
      "53                            0.0                         0.0   \n",
      "54                            0.0                         0.0   \n",
      "...                           ...                         ...   \n",
      "48030                       0.001                       0.001   \n",
      "48031                       0.001                       0.001   \n",
      "48032                       0.001                       0.001   \n",
      "48033                       0.001                       0.001   \n",
      "48034                       0.001                       0.001   \n",
      "\n",
      "      temperature_change_from_n2o total_ghg  \n",
      "50                            0.0            \n",
      "51                            0.0            \n",
      "52                            0.0            \n",
      "53                            0.0            \n",
      "54                            0.0            \n",
      "...                           ...       ...  \n",
      "48030                         0.0     39.67  \n",
      "48031                         0.0     41.71  \n",
      "48032                         0.0     40.83  \n",
      "48033                         0.0     42.12  \n",
      "48034                         0.0     44.46  \n",
      "\n",
      "[22400 rows x 16 columns]\n"
     ]
    }
   ],
   "source": [
    "print(emissions_df)"
   ]
  },
  {
   "cell_type": "code",
   "execution_count": 21,
   "metadata": {},
   "outputs": [],
   "source": [
    "def send_post_request(row):\n",
    "    payload = row.to_dict()\n",
    "    response = requests.post(backend_url, json=payload)\n",
    "    if (response.status_code != 201):\n",
    "        print(f'Response for row {row.name}: {response.status_code}')"
   ]
  },
  {
   "cell_type": "code",
   "execution_count": 22,
   "metadata": {},
   "outputs": [
    {
     "data": {
      "text/plain": [
       "50       None\n",
       "51       None\n",
       "52       None\n",
       "53       None\n",
       "54       None\n",
       "         ... \n",
       "48030    None\n",
       "48031    None\n",
       "48032    None\n",
       "48033    None\n",
       "48034    None\n",
       "Length: 22400, dtype: object"
      ]
     },
     "execution_count": 22,
     "metadata": {},
     "output_type": "execute_result"
    }
   ],
   "source": [
    "emissions_df.apply(send_post_request, axis=1)"
   ]
  }
 ],
 "metadata": {
  "kernelspec": {
   "display_name": "Python 3",
   "language": "python",
   "name": "python3"
  },
  "language_info": {
   "codemirror_mode": {
    "name": "ipython",
    "version": 3
   },
   "file_extension": ".py",
   "mimetype": "text/x-python",
   "name": "python",
   "nbconvert_exporter": "python",
   "pygments_lexer": "ipython3",
   "version": "3.12.1"
  }
 },
 "nbformat": 4,
 "nbformat_minor": 2
}
