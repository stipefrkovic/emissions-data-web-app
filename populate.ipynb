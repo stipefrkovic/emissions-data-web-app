{
 "cells": [
  {
   "cell_type": "code",
   "execution_count": null,
   "metadata": {},
   "outputs": [],
   "source": [
    "import os\n",
    "import pandas as pd\n",
    "import requests"
   ]
  },
  {
   "cell_type": "code",
   "execution_count": null,
   "metadata": {},
   "outputs": [],
   "source": [
    "emissions_csv_url = os.environ.get(\"EMISSIONS_CSV_URL\")\n",
    "print(emissions_csv_url)"
   ]
  },
  {
   "cell_type": "code",
   "execution_count": null,
   "metadata": {},
   "outputs": [],
   "source": [
    "emissions_df = pd.read_csv(emissions_csv_url)\n",
    "print(emissions_df)"
   ]
  },
  {
   "cell_type": "code",
   "execution_count": null,
   "metadata": {},
   "outputs": [],
   "source": [
    "backend_url = os.environ.get(\"BACKEND_URL\")\n",
    "print(backend_url)"
   ]
  },
  {
   "cell_type": "code",
   "execution_count": null,
   "metadata": {},
   "outputs": [],
   "source": [
    "keep_columns = [\n",
    "    \"country\",\n",
    "    \"year\",\n",
    "    \"iso_code\",\n",
    "    \"population\",\n",
    "    \"gdp\",\n",
    "    \"co2\",\n",
    "    \"energy_per_capita\",\n",
    "    \"energy_per_gdp\",\n",
    "    \"methane\",\n",
    "    \"nitrous_oxide\",\n",
    "    \"share_of_temperature_change_from_ghg\",\n",
    "    \"temperature_change_from_ch4\",\n",
    "    \"temperature_change_from_co2\",\n",
    "    \"temperature_change_from_ghg\",\n",
    "    \"temperature_change_from_n2o\",\n",
    "    \"total_ghg\"\n",
    "]\n",
    "continents = [\n",
    "    \"Africa\",\n",
    "    \"Antarctica\",\n",
    "    \"Asia\",\n",
    "    \"Australia\",\n",
    "    \"Europe\",\n",
    "    \"North America\",\n",
    "    \"South America\"\n",
    "]\n",
    "time_range = range(1900, 2000)"
   ]
  },
  {
   "cell_type": "code",
   "execution_count": null,
   "metadata": {},
   "outputs": [],
   "source": [
    "emissions_df = emissions_df[keep_columns]\n"
   ]
  },
  {
   "cell_type": "code",
   "execution_count": null,
   "metadata": {},
   "outputs": [],
   "source": [
    "emissions_df = emissions_df[(emissions_df[\"iso_code\"].notna() | emissions_df[\"country\"].isin(continents)) & emissions_df[\"year\"].isin(time_range)]"
   ]
  },
  {
   "cell_type": "code",
   "execution_count": null,
   "metadata": {},
   "outputs": [],
   "source": [
    "# emissions_df = emissions_df.where(pd.notnull(emissions_df), None)\n",
    "emissions_df = emissions_df.fillna('')"
   ]
  },
  {
   "cell_type": "code",
   "execution_count": null,
   "metadata": {},
   "outputs": [],
   "source": [
    "print(emissions_df)"
   ]
  },
  {
   "cell_type": "code",
   "execution_count": null,
   "metadata": {},
   "outputs": [],
   "source": [
    "def send_post_request(row):\n",
    "    payload = row.to_dict()\n",
    "    response = requests.post(backend_url, json=payload)\n",
    "    if (response.status_code != 201):\n",
    "        print(f'Response for row {row.name}: {response.status_code}')"
   ]
  },
  {
   "cell_type": "code",
   "execution_count": null,
   "metadata": {},
   "outputs": [],
   "source": [
    "emissions_df.apply(send_post_request, axis=1)"
   ]
  }
 ],
 "metadata": {
  "kernelspec": {
   "display_name": "Python 3",
   "language": "python",
   "name": "python3"
  },
  "language_info": {
   "codemirror_mode": {
    "name": "ipython",
    "version": 3
   },
   "file_extension": ".py",
   "mimetype": "text/x-python",
   "name": "python",
   "nbconvert_exporter": "python",
   "pygments_lexer": "ipython3",
   "version": "3.12.1"
  }
 },
 "nbformat": 4,
 "nbformat_minor": 2
}
